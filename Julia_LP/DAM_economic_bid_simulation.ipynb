{
 "cells": [
  {
   "cell_type": "code",
   "execution_count": 1,
   "id": "452434b4-5556-45d6-bc54-09d02f0db4cd",
   "metadata": {},
   "outputs": [
    {
     "name": "stderr",
     "output_type": "stream",
     "text": [
      "\u001b[32m\u001b[1m    Updating\u001b[22m\u001b[39m registry at `~/.julia/registries/General.toml`\n",
      "\u001b[32m\u001b[1m   Resolving\u001b[22m\u001b[39m package versions...\n",
      "\u001b[32m\u001b[1m   Installed\u001b[22m\u001b[39m FFMPEG_jll ─ v4.4.2+2\n",
      "\u001b[32m\u001b[1m  No Changes\u001b[22m\u001b[39m to `~/.julia/environments/v1.8/Project.toml`\n",
      "\u001b[32m\u001b[1m    Updating\u001b[22m\u001b[39m `~/.julia/environments/v1.8/Manifest.toml`\n",
      " \u001b[90m [b22a6f82] \u001b[39m\u001b[93m↑ FFMPEG_jll v4.4.2+1 ⇒ v4.4.2+2\u001b[39m\n",
      "\u001b[32m\u001b[1mPrecompiling\u001b[22m\u001b[39m project...\n",
      "\u001b[32m  ✓ \u001b[39m\u001b[90mFFMPEG_jll\u001b[39m\n",
      "\u001b[32m  ✓ \u001b[39m\u001b[90mFFMPEG\u001b[39m\n",
      "\u001b[32m  ✓ \u001b[39m\u001b[90mGR_jll\u001b[39m\n",
      "\u001b[32m  ✓ \u001b[39m\u001b[90mGR\u001b[39m\n",
      "\u001b[32m  ✓ \u001b[39mPlots\n",
      "  5 dependencies successfully precompiled in 23 seconds. 173 already precompiled.\n",
      "\u001b[32m\u001b[1m   Resolving\u001b[22m\u001b[39m package versions...\n",
      "\u001b[32m\u001b[1m  No Changes\u001b[22m\u001b[39m to `~/.julia/environments/v1.8/Project.toml`\n",
      "\u001b[32m\u001b[1m  No Changes\u001b[22m\u001b[39m to `~/.julia/environments/v1.8/Manifest.toml`\n",
      "\u001b[32m\u001b[1m   Resolving\u001b[22m\u001b[39m package versions...\n",
      "\u001b[32m\u001b[1m  No Changes\u001b[22m\u001b[39m to `~/.julia/environments/v1.8/Project.toml`\n",
      "\u001b[32m\u001b[1m  No Changes\u001b[22m\u001b[39m to `~/.julia/environments/v1.8/Manifest.toml`\n",
      "\u001b[32m\u001b[1m   Resolving\u001b[22m\u001b[39m package versions...\n",
      "\u001b[32m\u001b[1m  No Changes\u001b[22m\u001b[39m to `~/.julia/environments/v1.8/Project.toml`\n",
      "\u001b[32m\u001b[1m  No Changes\u001b[22m\u001b[39m to `~/.julia/environments/v1.8/Manifest.toml`\n",
      "\u001b[32m\u001b[1m   Resolving\u001b[22m\u001b[39m package versions...\n",
      "\u001b[32m\u001b[1m  No Changes\u001b[22m\u001b[39m to `~/.julia/environments/v1.8/Project.toml`\n",
      "\u001b[32m\u001b[1m  No Changes\u001b[22m\u001b[39m to `~/.julia/environments/v1.8/Manifest.toml`\n",
      "\u001b[32m\u001b[1m   Resolving\u001b[22m\u001b[39m package versions...\n",
      "\u001b[32m\u001b[1m  No Changes\u001b[22m\u001b[39m to `~/.julia/environments/v1.8/Project.toml`\n",
      "\u001b[32m\u001b[1m  No Changes\u001b[22m\u001b[39m to `~/.julia/environments/v1.8/Manifest.toml`\n",
      "\u001b[32m\u001b[1m   Resolving\u001b[22m\u001b[39m package versions...\n",
      "\u001b[32m\u001b[1m  No Changes\u001b[22m\u001b[39m to `~/.julia/environments/v1.8/Project.toml`\n",
      "\u001b[32m\u001b[1m  No Changes\u001b[22m\u001b[39m to `~/.julia/environments/v1.8/Manifest.toml`\n",
      "\u001b[32m\u001b[1m   Resolving\u001b[22m\u001b[39m package versions...\n",
      "\u001b[32m\u001b[1m  No Changes\u001b[22m\u001b[39m to `~/.julia/environments/v1.8/Project.toml`\n",
      "\u001b[32m\u001b[1m  No Changes\u001b[22m\u001b[39m to `~/.julia/environments/v1.8/Manifest.toml`\n"
     ]
    }
   ],
   "source": [
    "import Pkg\n",
    "Pkg.add(\"JuMP\")\n",
    "Pkg.add(\"Gurobi\")\n",
    "Pkg.add(\"MAT\")\n",
    "Pkg.add(\"Printf\")\n",
    "Pkg.add(\"DataFrames\")\n",
    "Pkg.add(\"CSV\")\n",
    "Pkg.add(\"JLD\")\n",
    "Pkg.add(\"Plots\")\n",
    "\n",
    "using JuMP\n",
    "using Gurobi\n",
    "using MAT\n",
    "using Printf\n",
    "using DataFrames\n",
    "using CSV\n",
    "using Plots\n",
    "using JLD"
   ]
  },
  {
   "cell_type": "code",
   "execution_count": 146,
   "id": "925cb993-952e-4a93-8d37-a93f54d04b3b",
   "metadata": {},
   "outputs": [
    {
     "data": {
      "text/plain": [
       "24×365 Matrix{Float64}:\n",
       "  16.0787     23.1669    28.2047   …   16.3141     0.618492   15.822\n",
       "  15.4296     25.2388    25.7656       11.6972    -3.53201     7.79401\n",
       "  19.032      19.3603    22.2354        7.83809   -2.46551     6.05251\n",
       "   4.55248    18.8767    16.1647        8.23484   -2.58251     8.38276\n",
       "  10.2895     20.4606     4.54718       8.30159   -4.00601     9.77485\n",
       "   2.61246    15.9838    13.4009   …   12.7197    -2.22346     8.21345\n",
       "   9.08859    22.2741    14.5288       14.7153    -0.785496    7.56469\n",
       "  16.903      14.6414    15.7706       17.0739    -3.91951     6.65974\n",
       "   1.91804    15.6699    18.101        12.3947    -4.18411     7.85154\n",
       "   0.150127   14.6392    18.2118       13.2889     1.88749    11.0563\n",
       "  20.0273     15.4051    23.4115   …   10.2533   -51.0293     13.5632\n",
       "  22.2485     19.7234    19.1432       13.5899   -32.4045     15.1998\n",
       "   8.26537    26.6551    22.2574       12.3987   -32.7563     16.4086\n",
       "  12.1261     30.3256    26.385        12.5901   -34.3493     11.1502\n",
       "   8.52965    26.5654    27.0203       13.6204   -33.018       8.46485\n",
       "  15.5784     27.5868    24.818    …   11.4327   -32.34       12.7849\n",
       "  14.4977     22.599     21.7147        7.64585  -31.8593     15.4808\n",
       "  21.4667     19.7959    20.9826        9.19535  -34.7955     16.2098\n",
       "  11.4448     19.5827    20.3921       11.8028   -32.8223     14.0086\n",
       "   7.50001    17.6372    21.7304       13.1959   -32.65       16.3258\n",
       "  10.9903     21.5488    24.5559   …   14.9441   -23.8073     17.957\n",
       "  12.6583      8.78938   31.989        16.3642    -4.17017    18.0645\n",
       "  63.9357     99.849     68.1878       62.3024   113.079      52.6567\n",
       " 449.55      449.55     449.55        449.55     449.55      449.55"
      ]
     },
     "execution_count": 146,
     "metadata": {},
     "output_type": "execute_result"
    }
   ],
   "source": [
    "# High-level Settings\n",
    "Zone = \"NORTH\" # price zone name\n",
    "\n",
    "# read RTP price\n",
    "fileln = matopen(string(\"./RTP_\",Zone,\"_2019_2021_1h.mat\"))\n",
    "RTP = read(fileln, string(\"RTP_\",Zone,\"_2019_2021_1h\"))\n",
    "close(fileln)\n",
    "# read DAP price\n",
    "fileln = matopen(string(\"./DAP_\",Zone,\"_2019_2021.mat\"))\n",
    "DAP = read(fileln, string(\"DAP_\",Zone,\"_2019_2021_Julia\"))\n",
    "close(fileln)\n",
    "\n",
    "# read Discharge bid price1\n",
    "fileln = matopen(string(\"./lambda_disb1_\",Zone,\".mat\"))\n",
    "disb_price1 = read(fileln, string(\"lambda_disb1\"))\n",
    "close(fileln)\n",
    "# read Discharge bid price2\n",
    "fileln = matopen(string(\"./lambda_disb2_\",Zone,\".mat\"))\n",
    "disb_price2 = read(fileln, string(\"lambda_disb2\"))\n",
    "close(fileln)\n",
    "\n",
    "# read charge bid price1\n",
    "fileln = matopen(string(\"./lambda_chrb1_\",Zone,\".mat\"))\n",
    "chrb_price1 = read(fileln, string(\"lambda_chrb1\"))\n",
    "close(fileln)\n",
    "# read charge bid price2\n",
    "fileln = matopen(string(\"./lambda_chrb2_\",Zone,\".mat\"))\n",
    "chrb_price2 = read(fileln, string(\"lambda_chrb2\"))\n",
    "close(fileln)\n",
    "\n",
    "disb_price1 = reshape(disb_price1,(24,365))\n",
    "disb_price2 = reshape(disb_price2,(24,365))\n",
    "chrb_price1 = reshape(chrb_price1,(24,365))\n",
    "chrb_price2 = reshape(chrb_price2,(24,365))\n",
    "\n",
    "# RTP = reshape(RTP,(8760,1));\n",
    "# # RTP = RTP[1:24]\n",
    "# DAP = reshape(DAP,(8760,1));\n",
    "# # DAP = DAP[1:24];"
   ]
  },
  {
   "cell_type": "code",
   "execution_count": 147,
   "id": "2a65cf0a-31bb-41db-9df1-93ef974c00d0",
   "metadata": {
    "tags": []
   },
   "outputs": [
    {
     "name": "stdout",
     "output_type": "stream",
     "text": [
      "Set parameter Username\n",
      "Academic license - for non-commercial use only - expires 2023-07-13\n"
     ]
    }
   ],
   "source": [
    "## battery setting\n",
    "\n",
    "E = 1;  # storage energy capacity in MWh\n",
    "# simulation setting\n",
    "T = 24; # total time steps\n",
    "P = .5; # power rating MW\n",
    "eta = 0.9; # efficiency\n",
    "e0 = .5 * E;\n",
    "ef = e0;\n",
    "MC = 10; # marginal discharge cost\n",
    "M = 1; # duaration per step in hour\n",
    "N_sim = 365; # number of days\n",
    "d_DAP = DAP[:,1]; # daily DA price\n",
    "d_RTP = RTP[:,1];\n",
    "d_disb_price1 = disb_price1[:,1];\n",
    "d_chrb_price1 = chrb_price1[:,1];\n",
    "d_disb_price2 = disb_price2[:,1];\n",
    "d_chrb_price2 = chrb_price2[:,1];\n",
    "\n",
    "# initialize optimization model\n",
    "model = Model(Gurobi.Optimizer)\n",
    "set_silent(model) # no outputs\n",
    "\n",
    "@variable(model, d_da[1:T], lower_bound = 0) # discharge power in DA\n",
    "# @variable(model, d_rt[1:T], lower_bound = 0) # discharge power in RT\n",
    "@variable(model, c_da[1:T], lower_bound = 0) # charge power in DA\n",
    "# @variable(model, c_rt[1:T], lower_bound = 0) # charge power in RT\n",
    "# @variable(model, diff[1:T]) # difference between RT and DA power decision\n",
    "\n",
    "@variable(model, e[1:T], lower_bound = 0) # total battery energy\n",
    "@variable(model, R) # market revenue\n",
    "# @variable(model, C) # total degradation cost\n",
    "@variable(model, u_da[1:T], Bin) # 1 if charge/buy in DAM\n",
    "\n",
    "# @constraint(model, DiffPower[t=1:T], diff[t] - d_rt[t] + c_rt[t] == -d_pDA[t] ) # actual dis/charge power \n",
    "\n",
    "# arbitrage revenue\n",
    "@constraint(model, ArbRev, M*sum( (d_DAP .- d_disb_price1).*d_da + (d_chrb_price1 .- d_DAP).*c_da ) - R == 0 )\n",
    "# @constraint(model, ArbRev, M*sum( (d_DAP .- d_disb_price2).*d_da + (d_chrb_price2 .- d_DAP).*c_da ) - R == 0 )\n",
    "\n",
    "# total degradation cost\n",
    "# @constraint(model, DegCost, M*sum(d_rt * MC) - C == 0 )\n",
    "# @constraint(model, DegCost, C == M*sum(diff .* MC))\n",
    "\n",
    "# initial SoC evolution\n",
    "@constraint(model, SoCInit, e[1] - e0 == M*(c_da[1]*eta - d_da[1]/eta) )\n",
    "# rest SoC evolution\n",
    "@constraint(model, SoCCont[t = 2:T], e[t] - e[t-1] == M*(c_da[t]*eta - d_da[t]/eta) )\n",
    "\n",
    "# final energy level\n",
    "@constraint(model, Enelast, e[T] >= ef )\n",
    "# @constraint(model, Enelast[t = 24:24:T], e[t] >= ef )\n",
    "\n",
    "# charging / discharging non-conflict condition\n",
    "@constraint(model, ChRatingTot[t=1:T], c_da[t] <= P*u_da[t])\n",
    "@constraint(model, DchRatingTot[t=1:T], d_da[t] <= P*(1-u_da[t]))\n",
    "\n",
    "# max energy level\n",
    "@constraint(model, SoCMax[t=1:T], e[t] <= E )\n",
    "\n",
    "# maximize revenue plus degradation value\n",
    "@objective(model, Max, R);\n",
    "# @objective(model, Max, R);\n",
    "# print(model);\n",
    "# ArbRev\n"
   ]
  },
  {
   "cell_type": "code",
   "execution_count": 148,
   "id": "4bcbadbe-50da-4e08-bd67-69d0829566b9",
   "metadata": {
    "tags": []
   },
   "outputs": [
    {
     "name": "stdout",
     "output_type": "stream",
     "text": [
      "Optimization starts...\n",
      "  1.147979 seconds (617.63 k allocations: 28.826 MiB)\n"
     ]
    }
   ],
   "source": [
    "# initialize\n",
    "R_s = zeros(1, N_sim)\n",
    "P_s = zeros(1, N_sim)\n",
    "C_s = zeros(1, N_sim)\n",
    "\n",
    "C_v_da = zeros(24, N_sim) # daily DA charge\n",
    "D_v_da = zeros(24, N_sim) # daily DA discharge\n",
    "soc = zeros(24, N_sim) # daily SoC\n",
    "\n",
    "# step = 0\n",
    "\n",
    "@time begin\n",
    "@printf(\"Optimization starts...\\n\")\n",
    "\n",
    "for n = 1:(N_sim)       \n",
    "    # update prices\n",
    "    local pda = DAP[:,n]\n",
    "    local prt = RTP[:,n]\n",
    "    local pdisb1 = disb_price1[:,n]\n",
    "    local pchrb1 = chrb_price1[:,n]\n",
    "    local pdisb2 = disb_price2[:,n]\n",
    "    local pchrb2 = chrb_price2[:,n]\n",
    "        \n",
    "    # update prices in constraints\n",
    "    for t = 1:T\n",
    "        set_normalized_coefficient(ArbRev, d_da[t], M*(pda[t]-pdisb1[t]))           \n",
    "        set_normalized_coefficient(ArbRev, c_da[t], -M*(pda[t]-pchrb1[t]))     \n",
    "        # set_normalized_coefficient(ArbRev, d_da[t], M*(pda[t]-pdisb2[t]))           \n",
    "        # set_normalized_coefficient(ArbRev, c_da[t], -M*(pda[t]-pchrb2[t]))           \n",
    "    end\n",
    "\n",
    "    optimize!(model)\n",
    "    \n",
    "    global R_s[n] = value(R)\n",
    "    # global C_s[n] = value(C)\n",
    "    global P_s[n] = objective_value(model)\n",
    "    # global P_s[n] = objective_value(model)\n",
    "\n",
    "    global C_v_da[:,n] = value.(c_da)*M\n",
    "    global D_v_da[:,n] = value.(d_da)*M    \n",
    "    global soc[:,n] = value.(e)\n",
    "    termination_status(model)\n",
    "    # global e0 = value.(e)[end]\n",
    "        \n",
    "    # @printf(\"Day %d, Cummulative Rev %d, Cummulative Profit %d, Cummulative Cost %d, OptStatus: %s \\n\", n, sum(R_s), sum(P_s), sum(C_s), termination_status(model))\n",
    "    # @printf(\"Day %d, Cummulative Rev %d, Cummulative Profit %d, OptStatus: %s \\n\", n, sum(R_s), sum(P_s), termination_status(model))\n",
    " \n",
    "end\n",
    "    \n",
    "end\n",
    "rtp = vec(reshape(RTP,(8760,1)))\n",
    "dap = vec(reshape(DAP,(8760,1)))\n",
    "\n",
    "DAcharge = vec(reshape(C_v_da,(8760,1)))\n",
    "DAdischarge = vec(reshape(D_v_da,(8760,1)))\n",
    "SoC = vec(reshape(soc,(8760,1)))\n",
    "df = DataFrame(DAP = dap, RTP = rtp, DA_Charge = DAcharge, DA_Discharge = DAdischarge, SoC = SoC)\n",
    "# CSV.write(\"DAdispatch_918.csv\", df);\n",
    "CSV.write(string(\"DA_Economic_Dispatch1_\",Zone,\"_2019.csv\"), df);\n",
    "# CSV.write(string(\"DA_Economic_Dispatch2_\",Zone,\"_2019.csv\"), df);\n",
    "\n"
   ]
  },
  {
   "cell_type": "code",
   "execution_count": 149,
   "id": "f3ec8779-0e55-4bd1-a78a-1208194a9716",
   "metadata": {},
   "outputs": [
    {
     "data": {
      "text/plain": [
       "24×365 Matrix{Float64}:\n",
       " 0.0        0.0  0.0       0.5       …  0.5  0.5        0.5       0.5\n",
       " 0.0555556  0.5  0.5       0.0          0.0  0.0555556  0.0       0.0\n",
       " 0.5        0.0  0.0       0.0          0.5  0.0        0.179012  0.0\n",
       " 0.0        0.5  0.5       0.5          0.0  0.0        0.0       0.0\n",
       " 0.234568   0.5  0.0       0.0          0.0  0.0        0.0       0.111111\n",
       " 0.0        0.0  0.0       0.111111  …  0.5  0.0        0.5       0.5\n",
       " 0.5        0.5  0.0       0.5          0.0  0.5        0.5       0.5\n",
       " 0.5        0.0  0.0       0.5          0.5  0.5        0.0       0.0\n",
       " 0.0        0.0  0.5       0.0          0.5  0.0        0.228395  0.0\n",
       " 0.0        0.0  0.111111  0.5          0.0  0.5        0.5       0.5\n",
       " 0.5        0.0  0.5       0.0       …  0.0  0.0        0.0       0.5\n",
       " 0.5        0.0  0.0       0.240741     0.5  0.5        0.5       0.0\n",
       " 0.0        0.5  0.0       0.0          0.5  0.117284   0.117284  0.5\n",
       " 0.0        0.5  0.111111  0.5          0.0  0.0        0.0       0.0\n",
       " 0.0        0.0  0.5       0.117284     0.5  0.5        0.0       0.0\n",
       " 0.5        0.5  0.5       0.0       …  0.0  0.0        0.234568  0.0\n",
       " 0.0        0.0  0.0       0.111111     0.0  0.0        0.5       0.117284\n",
       " 0.5        0.0  0.0       0.5          0.5  0.0        0.0       0.5\n",
       " 0.0        0.0  0.0       0.5          0.0  0.0        0.5       0.0\n",
       " 0.0        0.0  0.0       0.0          0.0  0.0        0.0       0.0\n",
       " 0.0        0.5  0.111111  0.0       …  0.5  0.5        0.0       0.5\n",
       " 0.0        0.0  0.0       0.111111     0.0  0.0        0.0       0.0\n",
       " 0.5        0.5  0.5       0.5          0.5  0.5        0.5       0.5\n",
       " 0.5        0.5  0.5       0.5          0.5  0.5        0.5       0.5"
      ]
     },
     "execution_count": 149,
     "metadata": {},
     "output_type": "execute_result"
    }
   ],
   "source": [
    "C_v_da"
   ]
  },
  {
   "cell_type": "code",
   "execution_count": 137,
   "id": "c8ef1173-6c0a-4cb4-89a3-9da026e71eb4",
   "metadata": {},
   "outputs": [
    {
     "data": {
      "text/plain": [
       "24×365 Matrix{Float64}:\n",
       " 0.0   0.0    0.0   0.0    0.355  0.0   …  0.0    0.0    0.0    0.0    0.0\n",
       " 0.0   0.0    0.26  0.36   0.0    0.26     0.0    0.5    0.0    0.5    0.5\n",
       " 0.0   0.0    0.5   0.0    0.5    0.5      0.0    0.0    0.5    0.0    0.355\n",
       " 0.5   0.0    0.0   0.4    0.0    0.0      0.405  0.26   0.4    0.5    0.0\n",
       " 0.4   0.0    0.5   0.5    0.315  0.5      0.0    0.5    0.0    0.0    0.0\n",
       " 0.0   0.405  0.0   0.0    0.0    0.0   …  0.0    0.0    0.0    0.0    0.0\n",
       " 0.0   0.0    0.0   0.0    0.0    0.0      0.0    0.315  0.0    0.0    0.0\n",
       " 0.0   0.0    0.0   0.0    0.5    0.0      0.0    0.0    0.0    0.0    0.5\n",
       " 0.31  0.0    0.0   0.5    0.0    0.4      0.4    0.0    0.315  0.405  0.4\n",
       " 0.5   0.0    0.0   0.0    0.0    0.5      0.5    0.4    0.0    0.0    0.0\n",
       " 0.0   0.4    0.0   0.0    0.5    0.0   …  0.0    0.5    0.5    0.5    0.0\n",
       " 0.0   0.5    0.5   0.0    0.0    0.0      0.0    0.0    0.0    0.0    0.215\n",
       " 0.0   0.0    0.4   0.5    0.305  0.0      0.0    0.0    0.0    0.0    0.5\n",
       " 0.0   0.0    0.0   0.0    0.5    0.0      0.4    0.5    0.5    0.5    0.0\n",
       " 0.5   0.0    0.0   0.0    0.0    0.4      0.5    0.0    0.0    0.4    0.5\n",
       " 0.0   0.0    0.0   0.0    0.0    0.5   …  0.0    0.5    0.0    0.0    0.0\n",
       " 0.0   0.5    0.5   0.5    0.5    0.0      0.0    0.12   0.4    0.0    0.0\n",
       " 0.0   0.4    0.0   0.0    0.31   0.0      0.0    0.0    0.5    0.5    0.31\n",
       " 0.0   0.0    0.0   0.0    0.0    0.0      0.5    0.5    0.0    0.31   0.5\n",
       " 0.4   0.0    0.0   0.5    0.0    0.0      0.0    0.0    0.0    0.0    0.0\n",
       " 0.0   0.0    0.0   0.0    0.5    0.5   …  0.5    0.0    0.0    0.0    0.0\n",
       " 0.5   0.5    0.0   0.315  0.22   0.31     0.0    0.315  0.315  0.0    0.5\n",
       " 0.0   0.0    0.0   0.0    0.0    0.0      0.0    0.0    0.0    0.0    0.0\n",
       " 0.0   0.0    0.0   0.0    0.0    0.0      0.0    0.0    0.0    0.0    0.0"
      ]
     },
     "execution_count": 137,
     "metadata": {},
     "output_type": "execute_result"
    }
   ],
   "source": [
    "D_v_da"
   ]
  },
  {
   "cell_type": "code",
   "execution_count": 111,
   "id": "fc64a73f-7dc9-4d2f-ab16-1c828f33fcaa",
   "metadata": {},
   "outputs": [
    {
     "data": {
      "text/plain": [
       "24×365 Matrix{Float64}:\n",
       "  0.0         0.0         0.0        …  -0.5        0.0       -0.5\n",
       " -0.0555556  -0.0555556   0.0            0.0        0.45       0.355\n",
       " -0.5         0.0         0.0            0.5        0.0        0.5\n",
       "  0.5         0.0        -0.0617284      0.355      0.0        0.0\n",
       "  0.0        -0.5         0.5            0.0        0.0        0.0\n",
       "  0.31        0.405       0.0        …   0.0       -0.111111   0.0\n",
       " -0.5        -0.5         0.0           -0.111111  -0.5        0.0\n",
       " -0.5         0.0         0.0           -0.5        0.0        0.0\n",
       "  0.4         0.0        -0.5            0.0        0.0        0.0\n",
       "  0.5         0.0        -0.111111      -0.5       -0.5       -0.5\n",
       " -0.5         0.31       -0.5        …   0.0        0.5       -0.5\n",
       " -0.5         0.5         0.5            0.0       -0.5        0.0\n",
       "  0.0         0.0         0.4            0.0       -0.117284  -0.111111\n",
       "  0.0        -0.5         0.0            0.0        0.4        0.4\n",
       "  0.5         0.0         0.0            0.0        0.0        0.5\n",
       " -0.228395   -0.5         0.0        …   0.0        0.0        0.0\n",
       "  0.0         0.0         0.0            0.5        0.0        0.0\n",
       " -0.5         0.0         0.0            0.4        0.5        0.0\n",
       "  0.0         0.0         0.0            0.0        0.0        0.0\n",
       "  0.5         0.4         0.0            0.0        0.0        0.0\n",
       "  0.0         0.0        -0.111111   …   0.0        0.0       -0.111111\n",
       "  0.4         0.5         0.0            0.0        0.0        0.0\n",
       " -0.5        -0.5        -0.5           -0.5       -0.5       -0.5\n",
       " -0.5        -0.5        -0.5           -0.5       -0.5       -0.5"
      ]
     },
     "execution_count": 111,
     "metadata": {},
     "output_type": "execute_result"
    }
   ],
   "source": [
    "D_v_da - C_v_da  "
   ]
  },
  {
   "cell_type": "code",
   "execution_count": 112,
   "id": "6e173953-b8f2-4bb4-b825-9f1dbc34eb90",
   "metadata": {},
   "outputs": [
    {
     "data": {
      "text/plain": [
       "-7744.77144691358"
      ]
     },
     "execution_count": 112,
     "metadata": {},
     "output_type": "execute_result"
    }
   ],
   "source": [
    "DAPP = reshape(DAP,(8760,1))\n",
    "P_v_da = reshape(D_v_da - C_v_da,(8760,1))\n",
    "sum(DAPP .* P_v_da)"
   ]
  },
  {
   "cell_type": "code",
   "execution_count": 97,
   "id": "b2b72300-b332-4b7e-8aaa-26a7bd28b990",
   "metadata": {},
   "outputs": [
    {
     "data": {
      "text/plain": [
       "1×2 Matrix{Int64}:\n",
       " 12  33"
      ]
     },
     "execution_count": 97,
     "metadata": {},
     "output_type": "execute_result"
    }
   ],
   "source": [
    "a = [1 2 3]\n",
    "b= [ 3 8 10]'\n",
    "r = a * b\n",
    "# DAP = DAP[1:24];\n",
    "c = [12 33]"
   ]
  },
  {
   "cell_type": "code",
   "execution_count": 98,
   "id": "4f118ca7-0b22-4300-93b9-4e1cae3647a5",
   "metadata": {},
   "outputs": [
    {
     "data": {
      "text/plain": [
       "\"c\""
      ]
     },
     "execution_count": 98,
     "metadata": {},
     "output_type": "execute_result"
    }
   ],
   "source": [
    "string('c')"
   ]
  },
  {
   "cell_type": "code",
   "execution_count": null,
   "id": "7ca6c9d9-1531-4614-a9eb-19b925cca519",
   "metadata": {},
   "outputs": [],
   "source": []
  }
 ],
 "metadata": {
  "kernelspec": {
   "display_name": "Julia 1.8.0-rc3",
   "language": "julia",
   "name": "julia-1.8"
  },
  "language_info": {
   "file_extension": ".jl",
   "mimetype": "application/julia",
   "name": "julia",
   "version": "1.8.0"
  }
 },
 "nbformat": 4,
 "nbformat_minor": 5
}
