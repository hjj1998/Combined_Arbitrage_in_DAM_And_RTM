{
 "cells": [
  {
   "cell_type": "code",
   "execution_count": 1,
   "id": "dfdcbe95-064a-4229-881b-373446890afe",
   "metadata": {},
   "outputs": [
    {
     "name": "stderr",
     "output_type": "stream",
     "text": [
      "\u001b[32m\u001b[1m    Updating\u001b[22m\u001b[39m registry at `~/.julia/registries/General.toml`\n",
      "\u001b[32m\u001b[1m   Resolving\u001b[22m\u001b[39m package versions...\n",
      "\u001b[32m\u001b[1m  No Changes\u001b[22m\u001b[39m to `~/.julia/environments/v1.8/Project.toml`\n",
      "\u001b[32m\u001b[1m  No Changes\u001b[22m\u001b[39m to `~/.julia/environments/v1.8/Manifest.toml`\n",
      "\u001b[32m\u001b[1m   Resolving\u001b[22m\u001b[39m package versions...\n",
      "\u001b[32m\u001b[1m  No Changes\u001b[22m\u001b[39m to `~/.julia/environments/v1.8/Project.toml`\n",
      "\u001b[32m\u001b[1m  No Changes\u001b[22m\u001b[39m to `~/.julia/environments/v1.8/Manifest.toml`\n",
      "\u001b[32m\u001b[1m   Resolving\u001b[22m\u001b[39m package versions...\n",
      "\u001b[32m\u001b[1m  No Changes\u001b[22m\u001b[39m to `~/.julia/environments/v1.8/Project.toml`\n",
      "\u001b[32m\u001b[1m  No Changes\u001b[22m\u001b[39m to `~/.julia/environments/v1.8/Manifest.toml`\n",
      "\u001b[32m\u001b[1m   Resolving\u001b[22m\u001b[39m package versions...\n",
      "\u001b[32m\u001b[1m  No Changes\u001b[22m\u001b[39m to `~/.julia/environments/v1.8/Project.toml`\n",
      "\u001b[32m\u001b[1m  No Changes\u001b[22m\u001b[39m to `~/.julia/environments/v1.8/Manifest.toml`\n",
      "\u001b[32m\u001b[1m   Resolving\u001b[22m\u001b[39m package versions...\n",
      "\u001b[32m\u001b[1m  No Changes\u001b[22m\u001b[39m to `~/.julia/environments/v1.8/Project.toml`\n",
      "\u001b[32m\u001b[1m  No Changes\u001b[22m\u001b[39m to `~/.julia/environments/v1.8/Manifest.toml`\n",
      "\u001b[32m\u001b[1m   Resolving\u001b[22m\u001b[39m package versions...\n",
      "\u001b[32m\u001b[1m  No Changes\u001b[22m\u001b[39m to `~/.julia/environments/v1.8/Project.toml`\n",
      "\u001b[32m\u001b[1m  No Changes\u001b[22m\u001b[39m to `~/.julia/environments/v1.8/Manifest.toml`\n",
      "\u001b[32m\u001b[1m   Resolving\u001b[22m\u001b[39m package versions...\n",
      "\u001b[32m\u001b[1m  No Changes\u001b[22m\u001b[39m to `~/.julia/environments/v1.8/Project.toml`\n",
      "\u001b[32m\u001b[1m  No Changes\u001b[22m\u001b[39m to `~/.julia/environments/v1.8/Manifest.toml`\n",
      "\u001b[32m\u001b[1m   Resolving\u001b[22m\u001b[39m package versions...\n",
      "\u001b[32m\u001b[1m  No Changes\u001b[22m\u001b[39m to `~/.julia/environments/v1.8/Project.toml`\n",
      "\u001b[32m\u001b[1m  No Changes\u001b[22m\u001b[39m to `~/.julia/environments/v1.8/Manifest.toml`\n"
     ]
    }
   ],
   "source": [
    "import Pkg\n",
    "Pkg.add(\"JuMP\")\n",
    "Pkg.add(\"Gurobi\")\n",
    "Pkg.add(\"MAT\")\n",
    "Pkg.add(\"Printf\")\n",
    "Pkg.add(\"DataFrames\")\n",
    "Pkg.add(\"CSV\")\n",
    "Pkg.add(\"JLD\")\n",
    "Pkg.add(\"Plots\")\n",
    "\n",
    "using JuMP\n",
    "using Gurobi\n",
    "using MAT\n",
    "using Printf\n",
    "using DataFrames\n",
    "using CSV\n",
    "using Plots\n",
    "using JLD"
   ]
  },
  {
   "cell_type": "code",
   "execution_count": 28,
   "id": "947890c5-3494-4785-a31e-76b76d24e5ee",
   "metadata": {},
   "outputs": [],
   "source": [
    "# High-level Settings\n",
    "Zone = \"WEST\" # price zone name\n",
    "\n",
    "# read RTP price\n",
    "fileln = matopen(string(\"./RTP_\",Zone,\"_2019_2021_1h.mat\"))\n",
    "RTP = read(fileln, string(\"RTP_\",Zone,\"_2019_2021_1h\"))\n",
    "close(fileln)\n",
    "\n",
    "# read DAP price\n",
    "fileln = matopen(string(\"./DAP_\",Zone,\"_2019_2021.mat\"))\n",
    "DAP = read(fileln, string(\"DAP_\",Zone,\"_2019_2021_Julia\"))\n",
    "close(fileln)\n",
    "\n",
    "# read DA power decision\n",
    "fileln = matopen(string(\"./pDA_\",Zone,\".mat\"))\n",
    "pDA_real = read(fileln, string(\"pS_DA\"))\n",
    "pDA_real = pDA_real[1:8760]\n",
    "close(fileln)\n",
    "\n",
    "inds = findall(i->(i<0), pDA_real);\n",
    "neginds = getindex.(inds, 1);\n",
    "inds = findall(i->(i>=0), pDA_real);\n",
    "posinds = getindex.(inds, 1);\n",
    "\n",
    "pDA_rdis = zeros(1,length(pDA_real));\n",
    "pDA_rdis[posinds] .= pDA_real[posinds];\n",
    "pDA_rdis = transpose(pDA_rdis);\n",
    "# pDA_rdis = reshape(pDA_rdis,(24,365));\n",
    "\n",
    "pDA_rchr = zeros(1,length(pDA_real));\n",
    "pDA_rchr[neginds] .= -pDA_real[neginds];\n",
    "pDA_rchr = transpose(pDA_rchr);\n",
    "# pDA_rchr = reshape(pDA_rchr,(24,365));\n",
    "\n",
    "RTP = reshape(RTP,(8760,1));\n",
    "# RTP = RTP[1:24]\n",
    "DAP = reshape(DAP,(8760,1));\n",
    "# DAP = DAP[1:24];"
   ]
  },
  {
   "cell_type": "code",
   "execution_count": 34,
   "id": "6e684c68-c3c6-4988-89b4-d8ce1bc6a859",
   "metadata": {},
   "outputs": [
    {
     "data": {
      "text/plain": [
       "8760-element Vector{Float64}:\n",
       "  0.0\n",
       "  0.0\n",
       "  0.0\n",
       "  0.0\n",
       "  0.0\n",
       "  0.0\n",
       "  0.0\n",
       " -0.05666666666666671\n",
       "  0.0\n",
       " -0.4988888888888888\n",
       "  0.0\n",
       "  0.0\n",
       "  0.0\n",
       "  ⋮\n",
       "  0.0\n",
       "  0.0\n",
       "  0.0\n",
       "  0.0\n",
       "  0.0\n",
       "  0.0\n",
       "  0.0\n",
       "  0.0\n",
       "  0.0\n",
       "  0.0\n",
       "  0.0\n",
       "  0.0"
      ]
     },
     "execution_count": 34,
     "metadata": {},
     "output_type": "execute_result"
    }
   ],
   "source": [
    "pDA_real"
   ]
  },
  {
   "cell_type": "code",
   "execution_count": 32,
   "id": "d50e6f89-8f11-4813-97a3-3d5eb3d59a61",
   "metadata": {
    "tags": []
   },
   "outputs": [
    {
     "name": "stdout",
     "output_type": "stream",
     "text": [
      "Set parameter Username\n",
      "Academic license - for non-commercial use only - expires 2023-07-13\n"
     ]
    }
   ],
   "source": [
    "## battery setting\n",
    "\n",
    "E = 1;  # storage energy capacity in MWh\n",
    "# simulation setting\n",
    "T = 8760; # total time steps\n",
    "P = .5; # power rating MW\n",
    "eta = .9; # efficiency\n",
    "e0 = .5 * E;\n",
    "ef = e0;\n",
    "MC = 10; # marginal discharge cost\n",
    "M = 1\n",
    "\n",
    "# initialize optimization model\n",
    "model = Model(Gurobi.Optimizer)\n",
    "set_silent(model) # no outputs\n",
    "\n",
    "# @variable(model, d_da[1:T], lower_bound = 0) # discharge power in DA\n",
    "@variable(model, d_rt[1:T], lower_bound = 0) # discharge power in RT\n",
    "# @variable(model, c_da[1:T], lower_bound = 0) # charge power in DA\n",
    "@variable(model, c_rt[1:T], lower_bound = 0) # charge power in RT\n",
    "@variable(model, diff[1:T]) # difference between RT and DA power decision\n",
    "\n",
    "@variable(model, e[1:T], lower_bound = 0) # total battery energy\n",
    "@variable(model, R) # market revenue\n",
    "@variable(model, C) # total degradation cost\n",
    "@variable(model, u_rt[1:T], Bin) # 1 if charge/buy in RTM\n",
    "\n",
    "@constraint(model, DiffPower[t=1:T], diff[t] - d_rt[t] + c_rt[t] == -pDA_real[t] ) # actual dis/charge power \n",
    "\n",
    "# arbitrage revenue\n",
    "@constraint(model, ArbRev, R == M*sum(DAP.* pDA_real .+ RTP.* diff ) )\n",
    "# @constraint(model, ArbRev, M*sum(RTP.* diff) - R == 0 )\n",
    "\n",
    "# total degradation cost\n",
    "@constraint(model, DegCost, M*sum(d_rt * MC) - C == 0 )\n",
    "# @constraint(model, DegCost, C == M*sum(diff .* MC))\n",
    "\n",
    "# initial SoC evolution\n",
    "@constraint(model, SoCInit, e[1] - e0 == M*(c_rt[1]*eta - d_rt[1]/eta) )\n",
    "# rest SoC evolution\n",
    "@constraint(model, SoCCont[t = 2:T], e[t] - e[t-1] == M*(c_rt[t]*eta - d_rt[t]/eta) )\n",
    "\n",
    "# final energy level\n",
    "# @constraint(model, Enelast, e[T] >= ef )\n",
    "@constraint(model, Enelast[t = 24:24:T], e[t] >= ef )\n",
    "\n",
    "# charging / discharging non-conflict condition\n",
    "@constraint(model, ChRatingTot[t=1:T], c_rt[t] <= P*u_rt[t])\n",
    "@constraint(model, DchRatingTot[t=1:T], d_rt[t] <= P*(1-u_rt[t]))\n",
    "\n",
    "# max energy level\n",
    "@constraint(model, SoCMax[t=1:T], e[t] <= E )\n",
    "\n",
    "# maximize revenue plus degradation value\n",
    "@objective(model, Max, R-C);\n",
    "# @objective(model, Max, R);\n",
    "# print(model);\n",
    "# ArbRev\n"
   ]
  },
  {
   "cell_type": "code",
   "execution_count": 33,
   "id": "8d9c2089-e3a6-4174-996c-56c436cd5d91",
   "metadata": {},
   "outputs": [
    {
     "name": "stdout",
     "output_type": "stream",
     "text": [
      "Cummulative Rev 20013, Cummulative Profit 15785, Cummulative Cost 4228, OptStatus: OPTIMAL \n"
     ]
    }
   ],
   "source": [
    "optimize!(model)\n",
    "termination_status(model)\n",
    "\n",
    "# R_s = zeros(T, 1)\n",
    "# P_s = zeros(T, 1)\n",
    "# C_s = zeros(T, 1)\n",
    "# soc = zeros(T, 1)\n",
    "\n",
    "global R_s = value(R)\n",
    "global C_s = value(C)\n",
    "global P_s = objective_value(model)\n",
    "\n",
    "\n",
    "@printf(\"Cummulative Rev %d, Cummulative Profit %d, Cummulative Cost %d, OptStatus: %s \\n\", R_s, P_s, C_s, termination_status(model))\n",
    "\n",
    "SoC = vec(value.(e))\n",
    "RTP = vec(RTP)\n",
    "DAP = vec(DAP)\n",
    "DA_Charge = vec(pDA_rchr)\n",
    "RT_Charge = vec(value.(c_rt))\n",
    "DA_Discharge = vec(pDA_rdis)\n",
    "RT_Discharge = vec(value.(d_rt))\n",
    "\n",
    "df = DataFrame(DAP = DAP, RTP = RTP, DA_Charge = DA_Charge, RT_Charge = RT_Charge, DA_Discharge = DA_Discharge, RT_Discharge = RT_Discharge, SoC = SoC)\n",
    "# df = DataFrame(RTP = RTT, DAP = DAP, DA_Charge = DAcharge, RT_Charge = RTcharge, DA_Discharge = DAdischarge, RT_Discharge = RTdischarge, Charge = charge, Discharge = discharge, Pactual = pactual, SoC = SoC)\n",
    "CSV.write(\"dispatch_0911_1year.csv\", df);"
   ]
  },
  {
   "cell_type": "code",
   "execution_count": null,
   "id": "254e0528-6801-4066-b95c-a6ab0c7bffb8",
   "metadata": {},
   "outputs": [],
   "source": []
  }
 ],
 "metadata": {
  "kernelspec": {
   "display_name": "Julia 1.8.0-rc3",
   "language": "julia",
   "name": "julia-1.8"
  },
  "language_info": {
   "file_extension": ".jl",
   "mimetype": "application/julia",
   "name": "julia",
   "version": "1.8.0"
  }
 },
 "nbformat": 4,
 "nbformat_minor": 5
}
